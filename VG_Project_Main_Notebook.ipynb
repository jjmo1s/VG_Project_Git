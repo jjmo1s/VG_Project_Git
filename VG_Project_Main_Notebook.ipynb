{
 "cells": [
  {
   "cell_type": "markdown",
   "id": "be50279d",
   "metadata": {},
   "source": [
    "### Main Notebook Branch\n",
    "This branch will merge all the EDA and modeling steps."
   ]
  },
  {
   "cell_type": "markdown",
   "id": "00c95992",
   "metadata": {},
   "source": [
    "## EDA"
   ]
  },
  {
   "cell_type": "markdown",
   "id": "0656996a",
   "metadata": {},
   "source": [
    "## Modeling"
   ]
  },
  {
   "cell_type": "code",
   "execution_count": null,
   "id": "feb1dccd",
   "metadata": {},
   "outputs": [],
   "source": []
  }
 ],
 "metadata": {
  "kernelspec": {
   "display_name": "Python 3 (ipykernel)",
   "language": "python",
   "name": "python3"
  },
  "language_info": {
   "codemirror_mode": {
    "name": "ipython",
    "version": 3
   },
   "file_extension": ".py",
   "mimetype": "text/x-python",
   "name": "python",
   "nbconvert_exporter": "python",
   "pygments_lexer": "ipython3",
   "version": "3.10.9"
  }
 },
 "nbformat": 4,
 "nbformat_minor": 5
}
