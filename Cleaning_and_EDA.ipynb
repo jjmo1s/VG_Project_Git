{
 "cells": [
  {
   "cell_type": "code",
   "execution_count": 37,
   "id": "4505746e",
   "metadata": {},
   "outputs": [],
   "source": [
    "import pandas as pd\n",
    "import numpy as np\n",
    "import matplotlib.pyplot as plt\n",
    "import seaborn as sns"
   ]
  },
  {
   "cell_type": "code",
   "execution_count": 2,
   "id": "dbf608ff",
   "metadata": {},
   "outputs": [],
   "source": [
    "# read in metacritic data\n",
    "df_meta = pd.read_csv('metacritic.csv', header=0)"
   ]
  },
  {
   "cell_type": "code",
   "execution_count": 88,
   "id": "506a6bbc",
   "metadata": {},
   "outputs": [
    {
     "data": {
      "text/html": [
       "<div>\n",
       "<style scoped>\n",
       "    .dataframe tbody tr th:only-of-type {\n",
       "        vertical-align: middle;\n",
       "    }\n",
       "\n",
       "    .dataframe tbody tr th {\n",
       "        vertical-align: top;\n",
       "    }\n",
       "\n",
       "    .dataframe thead th {\n",
       "        text-align: right;\n",
       "    }\n",
       "</style>\n",
       "<table border=\"1\" class=\"dataframe\">\n",
       "  <thead>\n",
       "    <tr style=\"text-align: right;\">\n",
       "      <th></th>\n",
       "      <th>Release_Date</th>\n",
       "      <th>Title</th>\n",
       "      <th>userscore</th>\n",
       "      <th>metascore</th>\n",
       "      <th>Platform</th>\n",
       "      <th>genre</th>\n",
       "      <th>developer</th>\n",
       "      <th>publisher</th>\n",
       "      <th>rating</th>\n",
       "      <th>Plat_Release_Yr</th>\n",
       "    </tr>\n",
       "  </thead>\n",
       "  <tbody>\n",
       "    <tr>\n",
       "      <th>0</th>\n",
       "      <td>1998-11-23</td>\n",
       "      <td>The Legend of Zelda: Ocarina of Time</td>\n",
       "      <td>91.0</td>\n",
       "      <td>99.0</td>\n",
       "      <td>Nintendo 64</td>\n",
       "      <td>Action Adventure,                             ...</td>\n",
       "      <td>Nintendo</td>\n",
       "      <td>...</td>\n",
       "      <td>E</td>\n",
       "      <td>1996</td>\n",
       "    </tr>\n",
       "    <tr>\n",
       "      <th>1</th>\n",
       "      <td>2000-09-20</td>\n",
       "      <td>Tony Hawk's Pro Skater 2</td>\n",
       "      <td>74.0</td>\n",
       "      <td>98.0</td>\n",
       "      <td>PlayStation</td>\n",
       "      <td>Sports,                                       ...</td>\n",
       "      <td>Neversoft Entertainment</td>\n",
       "      <td>...</td>\n",
       "      <td>T</td>\n",
       "      <td>1994</td>\n",
       "    </tr>\n",
       "    <tr>\n",
       "      <th>2</th>\n",
       "      <td>2021-03-30</td>\n",
       "      <td>Disco Elysium: The Final Cut</td>\n",
       "      <td>82.0</td>\n",
       "      <td>97.0</td>\n",
       "      <td>PC</td>\n",
       "      <td>Role-Playing,                                 ...</td>\n",
       "      <td>ZA/UM</td>\n",
       "      <td>...</td>\n",
       "      <td>M</td>\n",
       "      <td>1995</td>\n",
       "    </tr>\n",
       "    <tr>\n",
       "      <th>3</th>\n",
       "      <td>2000-10-30</td>\n",
       "      <td>Jet Grind Radio</td>\n",
       "      <td>83.0</td>\n",
       "      <td>94.0</td>\n",
       "      <td>Dreamcast</td>\n",
       "      <td>Action,                                       ...</td>\n",
       "      <td>Smilebit</td>\n",
       "      <td>...</td>\n",
       "      <td>T</td>\n",
       "      <td>1998</td>\n",
       "    </tr>\n",
       "    <tr>\n",
       "      <th>4</th>\n",
       "      <td>2021-08-19</td>\n",
       "      <td>Quake Remastered</td>\n",
       "      <td>84.0</td>\n",
       "      <td>87.0</td>\n",
       "      <td>Switch</td>\n",
       "      <td>Action,                                       ...</td>\n",
       "      <td>id Software, MachineGames</td>\n",
       "      <td>...</td>\n",
       "      <td>M</td>\n",
       "      <td>2017</td>\n",
       "    </tr>\n",
       "  </tbody>\n",
       "</table>\n",
       "</div>"
      ],
      "text/plain": [
       "  Release_Date                                 Title  userscore  metascore  \\\n",
       "0   1998-11-23  The Legend of Zelda: Ocarina of Time       91.0       99.0   \n",
       "1   2000-09-20              Tony Hawk's Pro Skater 2       74.0       98.0   \n",
       "2   2021-03-30          Disco Elysium: The Final Cut       82.0       97.0   \n",
       "3   2000-10-30                       Jet Grind Radio       83.0       94.0   \n",
       "4   2021-08-19                      Quake Remastered       84.0       87.0   \n",
       "\n",
       "      Platform                                              genre  \\\n",
       "0  Nintendo 64  Action Adventure,                             ...   \n",
       "1  PlayStation  Sports,                                       ...   \n",
       "2           PC  Role-Playing,                                 ...   \n",
       "3    Dreamcast  Action,                                       ...   \n",
       "4       Switch  Action,                                       ...   \n",
       "\n",
       "                   developer  \\\n",
       "0                   Nintendo   \n",
       "1    Neversoft Entertainment   \n",
       "2                      ZA/UM   \n",
       "3                   Smilebit   \n",
       "4  id Software, MachineGames   \n",
       "\n",
       "                                           publisher rating Plat_Release_Yr  \n",
       "0                                                ...      E            1996  \n",
       "1                                                ...      T            1994  \n",
       "2                                                ...      M            1995  \n",
       "3                                                ...      T            1998  \n",
       "4                                                ...      M            2017  "
      ]
     },
     "execution_count": 88,
     "metadata": {},
     "output_type": "execute_result"
    }
   ],
   "source": [
    "# preview data\n",
    "df_meta.head()\n",
    "\n",
    "# rename columns\n",
    "df_meta = df_meta.rename(columns={\"release_data\": \"Release_Date\", \"tittle\": \"Title\", \"plataforma\": \"Platform\"})\n",
    "\n",
    "# scale up userscore (x10) to match metascore scale\n",
    "df_meta['userscore'] = df_meta['userscore']*10\n",
    "\n",
    "df_meta.head()"
   ]
  },
  {
   "cell_type": "code",
   "execution_count": 89,
   "id": "ece5e4eb",
   "metadata": {},
   "outputs": [
    {
     "name": "stdout",
     "output_type": "stream",
     "text": [
      "Title               object\n",
      "userscore          float64\n",
      "metascore          float64\n",
      "Platform            object\n",
      "genre               object\n",
      "developer           object\n",
      "publisher           object\n",
      "rating              object\n",
      "Plat_Release_Yr     object\n",
      "dtype: object\n"
     ]
    }
   ],
   "source": [
    "# drop first column\n",
    "df_meta = df_meta.iloc[:,1:]\n",
    "\n",
    "# data types of columns\n",
    "print(df_meta.dtypes)\n",
    "\n",
    "# convert metascore from float to int\n",
    "#df['metascore'] = df['metascore'].fillna(0).astype('int')\n"
   ]
  },
  {
   "cell_type": "code",
   "execution_count": 90,
   "id": "a907a82b",
   "metadata": {},
   "outputs": [],
   "source": [
    "# create look-up table of platform and relase date\n",
    "\n",
    "# using earliest PC game release for the PC release yera\n",
    "# df_meta[df_meta['Platform'] == 'PC']['Release_Date'].min()\n",
    "\n",
    "# source: https://en.wikipedia.org/wiki/History_of_video_game_consoles\n",
    "\n",
    "\n",
    "df_plat_yr = pd.DataFrame({'Platform':df_meta['Platform'].unique(),\n",
    "                           'Plat_Release_Yr':['1996', '1994', '1995',\n",
    "                                              '1998', '2017', '2013',\n",
    "                                              '2000', '2002', '2001',\n",
    "                                              '2004', '2005', '2006',\n",
    "                                              '2014', '2006', '2005',\n",
    "                                              '2011', '2001', '2020', '2011',\n",
    "                                              '2012', 'na', '2020', '2019']}).dropna()\n",
    "\n",
    "df_meta = pd.merge(df_meta, df_plat_yr, how = \"left\", on = ['Platform'])"
   ]
  },
  {
   "cell_type": "code",
   "execution_count": 91,
   "id": "009f1738",
   "metadata": {},
   "outputs": [],
   "source": [
    "# average scores by console\n",
    "avg_scores = df_meta.groupby(['Platform'])[['userscore','metascore']].mean().round(1).sort_values(by=\"userscore\")\n",
    "\n",
    "# join console release year to average scores table\n",
    "avg_scores = pd.merge(avg_scores, df_plat_yr, how = \"left\", on = ['Platform'])\n",
    "\n",
    "# convert to long form\n",
    "avg_scores_long = pd.concat([avg_scores.iloc[:,[0,1,3]].rename(columns={\"userscore\": \"score\"}), \n",
    "                  avg_scores.iloc[:,[0,2,3]].rename(columns={\"metascore\": \"score\"})])\n",
    "\n",
    "# add value for type of score (user or meta)\n",
    "# list method https://stackoverflow.com/questions/64541504/how-do-i-add-a-column-with-a-repeating-series-of-values-to-a-dataframe\n",
    "avg_scores_long['Score_Type'] = [i for i in yourlist for _ in range(len(avg_scores))]"
   ]
  },
  {
   "cell_type": "code",
   "execution_count": 92,
   "id": "0a066e09",
   "metadata": {},
   "outputs": [
    {
     "data": {
      "text/plain": [
       "<AxesSubplot:xlabel='Plat_Release_Yr', ylabel='score'>"
      ]
     },
     "execution_count": 92,
     "metadata": {},
     "output_type": "execute_result"
    },
    {
     "data": {
      "image/png": "[encoded data removed]",
      "text/plain": [
       "<Figure size 640x480 with 1 Axes>"
      ]
     },
     "metadata": {},
     "output_type": "display_data"
    }
   ],
   "source": [
    "# game scores (user & meta) over time\n",
    "sns.lineplot(data=avg_scores_long, x=\"Plat_Release_Yr\", y=\"score\", hue=\"Score_Type\")"
   ]
  },
  {
   "cell_type": "code",
   "execution_count": null,
   "id": "e43d1f19",
   "metadata": {},
   "outputs": [],
   "source": []
  }
 ],
 "metadata": {
  "kernelspec": {
   "display_name": "Python 3 (ipykernel)",
   "language": "python",
   "name": "python3"
  },
  "language_info": {
   "codemirror_mode": {
    "name": "ipython",
    "version": 3
   },
   "file_extension": ".py",
   "mimetype": "text/x-python",
   "name": "python",
   "nbconvert_exporter": "python",
   "pygments_lexer": "ipython3",
   "version": "3.7.16"
  }
 },
 "nbformat": 4,
 "nbformat_minor": 5
}
